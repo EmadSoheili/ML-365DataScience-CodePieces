{
 "cells": [
  {
   "cell_type": "code",
   "execution_count": null,
   "id": "bf081eeb",
   "metadata": {},
   "outputs": [],
   "source": [
    "string = input('''Please enter the the formula.\n",
    "    >>> ''')\n",
    "\n",
    "blist = {')':'(', '}':'{', ']':'['}\n",
    "check_list = []\n",
    "result = ''\n",
    "\n",
    "for i in string:\n",
    "    if i in ['(', '{', '[']:\n",
    "        check_list.append(i)\n",
    "    elif i in [')', '}', ']']:\n",
    "        if not check_list:\n",
    "            check_list.append(i)\n",
    "        elif check_list[-1] == blist[i]:\n",
    "            check_list.pop()\n",
    "        result = 'Unbalanced!'\n",
    "\n",
    "if len(check_list) == 0:\n",
    "    result = 'Balanced!'\n",
    "    \n",
    "print(result)"
   ]
  }
 ],
 "metadata": {
  "kernelspec": {
   "display_name": "PythonData",
   "language": "python",
   "name": "pythondata"
  },
  "language_info": {
   "codemirror_mode": {
    "name": "ipython",
    "version": 3
   },
   "file_extension": ".py",
   "mimetype": "text/x-python",
   "name": "python",
   "nbconvert_exporter": "python",
   "pygments_lexer": "ipython3",
   "version": "3.9.16"
  }
 },
 "nbformat": 4,
 "nbformat_minor": 5
}
